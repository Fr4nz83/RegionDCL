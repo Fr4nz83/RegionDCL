{
 "cells": [
  {
   "cell_type": "code",
   "execution_count": null,
   "id": "137f947c-08ec-4031-84d5-97cb96337d45",
   "metadata": {},
   "outputs": [],
   "source": [
    "import pandas as pd\n",
    "import numpy as np\n",
    "import torch\n",
    "\n",
    "from data_util.dataset import CityData\n",
    "from model.regiondcl import PatternEncoder, RegionEncoder\n",
    "from model.trainer import PatternTrainer, RegionTrainer"
   ]
  },
  {
   "cell_type": "markdown",
   "id": "6db24b40-9074-494c-8132-c5392be8f485",
   "metadata": {},
   "source": [
    "#### Arguments used by subsequent code"
   ]
  },
  {
   "cell_type": "code",
   "execution_count": null,
   "id": "d9f05197-83b3-457c-b87f-605067bc0e9b",
   "metadata": {},
   "outputs": [],
   "source": [
    "class Args():\n",
    "    pass\n",
    "args = Args()\n",
    "\n",
    "args.city = \"Paris\"\n",
    "args.no_random = False\n",
    "args.fixed = False\n",
    "args.dim = 64\n",
    "args.d_feedforward = 1024\n",
    "args.building_head = 8\n",
    "args.building_layers = 2\n",
    "args.building_dropout = 0.2\n",
    "args.building_activation = 'relu'\n",
    "args.bottleneck_head = 8\n",
    "args.bottleneck_layers = 2\n",
    "args.bottleneck_dropout = 0.2\n",
    "args.bottleneck_activation = 'relu'\n",
    "args.lr=0.0001\n",
    "args.weight_decay=0.0001\n",
    "args.gamma=0.999\n",
    "args.save_name='pattern_embedding'"
   ]
  },
  {
   "cell_type": "markdown",
   "id": "2eda871e-7d6f-484d-8309-f3a1e1f65428",
   "metadata": {},
   "source": [
    "#### Pattern training"
   ]
  },
  {
   "cell_type": "code",
   "execution_count": null,
   "id": "9a870c41-3cb0-42c1-9599-d179c39efcef",
   "metadata": {},
   "outputs": [],
   "source": [
    "city_data = CityData(args.city, with_random=not args.no_random)\n",
    "device = torch.device('cuda' if torch.cuda.is_available() else 'cpu')"
   ]
  },
  {
   "cell_type": "code",
   "execution_count": null,
   "id": "84bc8853-93c3-4446-91b9-96848bab50d3",
   "metadata": {},
   "outputs": [],
   "source": [
    "pattern_encoder = PatternEncoder(d_building=city_data.building_feature_dim,\n",
    "                                 d_poi=city_data.poi_feature_dim,\n",
    "                                 d_hidden=args.dim,\n",
    "                                 d_feedforward=args.d_feedforward,\n",
    "                                 building_head=args.building_head,\n",
    "                                 building_layers=args.building_layers,\n",
    "                                 building_dropout=args.building_dropout,\n",
    "                                 building_distance_penalty=1,\n",
    "                                 building_activation=args.building_activation,\n",
    "                                 bottleneck_head=args.bottleneck_head,\n",
    "                                 bottleneck_layers=args.bottleneck_layers,\n",
    "                                 bottleneck_dropout=args.bottleneck_dropout,\n",
    "                                 bottleneck_activation=args.bottleneck_activation).to(device)\n",
    "\n",
    "# Encode building patterns.\n",
    "pattern_optimizer = torch.optim.Adam(pattern_encoder.parameters(), lr=args.lr, weight_decay=args.weight_decay)\n",
    "pattern_scheduler = torch.optim.lr_scheduler.StepLR(pattern_optimizer, step_size=1, gamma=args.gamma)\n",
    "pattern_trainer = PatternTrainer(city_data, pattern_encoder, pattern_optimizer, pattern_scheduler)\n",
    "pattern_trainer.train_pattern_contrastive(epochs=20, save_name=args.save_name)\n",
    "print('Pattern (building groups) training finished. Embeddings have been saved in embeddings/ directory.')"
   ]
  },
  {
   "cell_type": "code",
   "execution_count": null,
   "id": "4b9f1bc3-e4c2-4ee3-896c-fbe7808097b8",
   "metadata": {},
   "outputs": [],
   "source": [
    "embeddings = np.load(f'embeddings/{args.city}/{args.save_name}_20.npy')\n",
    "region_aggregator = RegionEncoder(d_hidden=args.dim, d_head=8)\n",
    "region_aggregator.to(device)\n",
    "region_optimizer = torch.optim.Adam(region_aggregator.parameters(), lr=args.lr, weight_decay=args.weight_decay)\n",
    "region_scheduler = torch.optim.lr_scheduler.StepLR(region_optimizer, step_size=1, gamma=args.gamma)\n",
    "region_trainer = RegionTrainer(city_data, \n",
    "                               pattern_encoder, \n",
    "                               pattern_optimizer, \n",
    "                               pattern_scheduler, \n",
    "                               region_aggregator,\n",
    "                               region_optimizer, \n",
    "                               region_scheduler)\n",
    "\n",
    "region_trainer.train_region_triplet_freeze(epochs=20, \n",
    "                                           embeddings=embeddings,\n",
    "                                           adaptive=not args.fixed,\n",
    "                                           save_name='RegionDCL_',\n",
    "                                           window_sizes=[1000, 2000, 3000])\n",
    "\n",
    "print('Training finished. Region embeddings have been saved in embeddings/ directory.')"
   ]
  },
  {
   "cell_type": "markdown",
   "id": "1a5b8b9f-7b67-4ff7-8889-3ea0824333b5",
   "metadata": {},
   "source": [
    "#### Fondere i region embedding prodotti da RegionDCL con le celle IRIS di Parigi. Gli indici degli embedding dovrebbero essere uguali agli indici in region_downstream.pkl, il quale contiene come regioni le celle IRIS di Parigi. A sua volta, questo e' stato creato dal dataframe originario contenente le celle IRIS di Parigi. Ci dovrebbe quindi essere una corrispondenza 1-1."
   ]
  },
  {
   "cell_type": "code",
   "execution_count": null,
   "id": "bb95612c-94bc-4f4f-b6bf-abef34ac3b9a",
   "metadata": {},
   "outputs": [],
   "source": [
    "region_embs_dict = pd.read_pickle('embeddings/Paris/RegionDCL_20.pkl')\n",
    "region_embeddings = pd.DataFrame(region_embs_dict.values(), index=region_embs_dict.keys())\n",
    "display(region_embeddings)\n",
    "\n",
    "IRIS_Paris_embeddings = pd.read_parquet('IRIS Paris.parquet')\n",
    "IRIS_Paris_embeddings[region_embeddings.columns] = region_embeddings[:]\n",
    "del IRIS_Paris_embeddings['code_commune'], IRIS_Paris_embeddings['geometry']\n",
    "IRIS_Paris_embeddings.set_index('code_iris', inplace = True)\n",
    "\n",
    "display(IRIS_Paris_embeddings)\n",
    "IRIS_Paris_embeddings.to_parquet('RegionDCL_IRIS_Paris_embeddings.parquet')"
   ]
  }
 ],
 "metadata": {
  "kernelspec": {
   "display_name": "Python 3 (ipykernel)",
   "language": "python",
   "name": "python3"
  },
  "language_info": {
   "codemirror_mode": {
    "name": "ipython",
    "version": 3
   },
   "file_extension": ".py",
   "mimetype": "text/x-python",
   "name": "python",
   "nbconvert_exporter": "python",
   "pygments_lexer": "ipython3",
   "version": "3.12.9"
  }
 },
 "nbformat": 4,
 "nbformat_minor": 5
}
