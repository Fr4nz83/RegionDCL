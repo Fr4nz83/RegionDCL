{
 "cells": [
  {
   "cell_type": "code",
   "execution_count": null,
   "id": "137f947c-08ec-4031-84d5-97cb96337d45",
   "metadata": {},
   "outputs": [],
   "source": [
    "import numpy as np\n",
    "import torch\n",
    "\n",
    "from data_util.dataset import CityData\n",
    "from model.regiondcl import PatternEncoder, RegionEncoder\n",
    "from model.trainer import PatternTrainer, RegionTrainer"
   ]
  },
  {
   "cell_type": "markdown",
   "id": "6db24b40-9074-494c-8132-c5392be8f485",
   "metadata": {},
   "source": [
    "#### Arguments used by subsequent code"
   ]
  },
  {
   "cell_type": "code",
   "execution_count": null,
   "id": "d9f05197-83b3-457c-b87f-605067bc0e9b",
   "metadata": {},
   "outputs": [],
   "source": [
    "class Args():\n",
    "    pass\n",
    "args = Args()\n",
    "\n",
    "args.city = \"Paris\"\n",
    "args.no_random = False\n",
    "args.fixed = False\n",
    "args.dim = 64\n",
    "args.d_feedforward = 1024\n",
    "args.building_head = 8\n",
    "args.building_layers = 2\n",
    "args.building_dropout = 0.2\n",
    "args.building_activation = 'relu'\n",
    "args.bottleneck_head = 8\n",
    "args.bottleneck_layers = 2\n",
    "args.bottleneck_dropout = 0.2\n",
    "args.bottleneck_activation = 'relu'\n",
    "args.lr=0.0001\n",
    "args.weight_decay=0.0001\n",
    "args.gamma=0.999\n",
    "args.save_name='pattern_embedding'"
   ]
  },
  {
   "cell_type": "markdown",
   "id": "2eda871e-7d6f-484d-8309-f3a1e1f65428",
   "metadata": {},
   "source": [
    "#### Pattern training"
   ]
  },
  {
   "cell_type": "code",
   "execution_count": null,
   "id": "9a870c41-3cb0-42c1-9599-d179c39efcef",
   "metadata": {},
   "outputs": [],
   "source": [
    "city_data = CityData(args.city, with_random=not args.no_random)\n",
    "device = torch.device('cuda' if torch.cuda.is_available() else 'cpu')"
   ]
  },
  {
   "cell_type": "code",
   "execution_count": null,
   "id": "4a03e9c6-324a-43f1-9b25-0f892b84bc8d",
   "metadata": {},
   "outputs": [],
   "source": [
    "pattern_encoder = PatternEncoder(d_building=city_data.building_feature_dim,\n",
    "                                 d_poi=city_data.poi_feature_dim,\n",
    "                                 d_hidden=args.dim,\n",
    "                                 d_feedforward=args.d_feedforward,\n",
    "                                 building_head=args.building_head,\n",
    "                                 building_layers=args.building_layers,\n",
    "                                 building_dropout=args.building_dropout,\n",
    "                                 building_distance_penalty=1,\n",
    "                                 building_activation=args.building_activation,\n",
    "                                 bottleneck_head=args.bottleneck_head,\n",
    "                                 bottleneck_layers=args.bottleneck_layers,\n",
    "                                 bottleneck_dropout=args.bottleneck_dropout,\n",
    "                                 bottleneck_activation=args.bottleneck_activation).to(device)\n",
    "\n",
    "# Encode building patterns.\n",
    "# pattern_optimizer = torch.optim.Adam(pattern_encoder.parameters(), lr=args.lr, weight_decay=args.weight_decay)\n",
    "# pattern_scheduler = torch.optim.lr_scheduler.StepLR(pattern_optimizer, step_size=1, gamma=args.gamma)\n",
    "# pattern_trainer = PatternTrainer(city_data, pattern_encoder, pattern_optimizer, pattern_scheduler)\n",
    "# pattern_trainer.train_pattern_contrastive(epochs=20, save_name=args.save_name)\n",
    "# print('Pattern (building groups) training finished. Embeddings have been saved in embeddings/ directory.')"
   ]
  }
 ],
 "metadata": {
  "kernelspec": {
   "display_name": "Python 3 (ipykernel)",
   "language": "python",
   "name": "python3"
  },
  "language_info": {
   "codemirror_mode": {
    "name": "ipython",
    "version": 3
   },
   "file_extension": ".py",
   "mimetype": "text/x-python",
   "name": "python",
   "nbconvert_exporter": "python",
   "pygments_lexer": "ipython3",
   "version": "3.10.13"
  }
 },
 "nbformat": 4,
 "nbformat_minor": 5
}
