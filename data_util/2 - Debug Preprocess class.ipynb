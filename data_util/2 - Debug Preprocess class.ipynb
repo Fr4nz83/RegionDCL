{
 "cells": [
  {
   "cell_type": "code",
   "execution_count": null,
   "id": "02215fb0-8d98-477a-8e5a-1cf2fc750dab",
   "metadata": {},
   "outputs": [],
   "source": [
    "from preprocess import Preprocess\n",
    "import pandas as pd"
   ]
  },
  {
   "cell_type": "markdown",
   "id": "346b3e3e-5f46-4ee1-ba7b-ff02590fad59",
   "metadata": {},
   "source": [
    "#### Instantiating the Preprocess class..."
   ]
  },
  {
   "cell_type": "code",
   "execution_count": null,
   "id": "2f74de63-4129-4983-ae5e-a9d28ba9eafb",
   "metadata": {},
   "outputs": [],
   "source": [
    "preprocessor = Preprocess(\"Paris\")"
   ]
  },
  {
   "cell_type": "markdown",
   "id": "ec9e5822-4e8d-437b-a086-e1abfd375fc1",
   "metadata": {},
   "source": [
    "#### Processing the raw buildings and POIs downloaded from Geofabrik."
   ]
  },
  {
   "cell_type": "code",
   "execution_count": null,
   "id": "16a11e0b-020d-4e22-82e8-fd4222ecf39d",
   "metadata": {},
   "outputs": [],
   "source": [
    "building, poi = preprocessor.get_building_and_poi()"
   ]
  },
  {
   "cell_type": "markdown",
   "id": "602d1969-19ee-41ec-bd17-b5a27aa0f519",
   "metadata": {},
   "source": [
    "#### Performing Poisson Disk Sampling...\n",
    "\n",
    "TODO: boundary, buildings e samples vanno proiettate in un CRS metrico. Usare 2154 (Francia)!"
   ]
  },
  {
   "cell_type": "code",
   "execution_count": null,
   "id": "7a1cdc71-0e7b-4c52-9e8a-486d0e7962d2",
   "metadata": {},
   "outputs": [],
   "source": [
    "radius = 50\n",
    "random_point = preprocessor.poisson_disk_sampling(building, poi, radius)"
   ]
  }
 ],
 "metadata": {
  "kernelspec": {
   "display_name": "Python 3 (ipykernel)",
   "language": "python",
   "name": "python3"
  },
  "language_info": {
   "codemirror_mode": {
    "name": "ipython",
    "version": 3
   },
   "file_extension": ".py",
   "mimetype": "text/x-python",
   "name": "python",
   "nbconvert_exporter": "python",
   "pygments_lexer": "ipython3",
   "version": "3.10.13"
  }
 },
 "nbformat": 4,
 "nbformat_minor": 5
}
