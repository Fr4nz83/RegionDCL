{
 "cells": [
  {
   "cell_type": "code",
   "execution_count": null,
   "id": "02215fb0-8d98-477a-8e5a-1cf2fc750dab",
   "metadata": {},
   "outputs": [],
   "source": [
    "from preprocess import Preprocess\n",
    "import pandas as pd"
   ]
  },
  {
   "cell_type": "code",
   "execution_count": null,
   "id": "2f74de63-4129-4983-ae5e-a9d28ba9eafb",
   "metadata": {},
   "outputs": [],
   "source": [
    "preprocessor = Preprocess(\"Paris\")"
   ]
  }
 ],
 "metadata": {
  "kernelspec": {
   "display_name": "Python 3 (ipykernel)",
   "language": "python",
   "name": "python3"
  },
  "language_info": {
   "codemirror_mode": {
    "name": "ipython",
    "version": 3
   },
   "file_extension": ".py",
   "mimetype": "text/x-python",
   "name": "python",
   "nbconvert_exporter": "python",
   "pygments_lexer": "ipython3",
   "version": "3.10.13"
  }
 },
 "nbformat": 4,
 "nbformat_minor": 5
}
