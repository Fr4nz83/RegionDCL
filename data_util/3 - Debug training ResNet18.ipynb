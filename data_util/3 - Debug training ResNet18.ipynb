{
 "cells": [
  {
   "cell_type": "code",
   "execution_count": 1,
   "id": "a885d3ab-338a-41dc-a258-e1b31d60dc70",
   "metadata": {},
   "outputs": [],
   "source": [
    "import sys; sys.path.insert(0, '..') # add parent folder\n",
    "\n",
    "from model.resnet import ImageDataset, train_unsupervised"
   ]
  },
  {
   "cell_type": "code",
   "execution_count": null,
   "id": "f350e6ec-c197-4a93-90a5-adb64c52cc18",
   "metadata": {},
   "outputs": [
    {
     "name": "stdout",
     "output_type": "stream",
     "text": [
      "Processing building raster images dataset ./data/processed/Paris/building_raster.hdf5, batch size 32, num_workers_dataloader 16\n",
      "Loading raster images from ./data/processed/Paris/building_raster.hdf5...\n",
      "Shape elements in the raster image dataset: (224, 224)\n",
      "Fine-tuning ResNet18, epoch 1...\n",
      "Dataset length: 3308639\n",
      "Number of batches (Train loader): 103395\n"
     ]
    },
    {
     "name": "stderr",
     "output_type": "stream",
     "text": [
      "Processing training set:   2%|█▏                                                | 2338/103395 [06:50<4:48:57,  5.83it/s]"
     ]
    }
   ],
   "source": [
    "city = 'Paris'\n",
    "train_unsupervised(city = city, batch_size = 32, num_workers_dataloader = 16)"
   ]
  }
 ],
 "metadata": {
  "kernelspec": {
   "display_name": "Python 3 (ipykernel)",
   "language": "python",
   "name": "python3"
  },
  "language_info": {
   "codemirror_mode": {
    "name": "ipython",
    "version": 3
   },
   "file_extension": ".py",
   "mimetype": "text/x-python",
   "name": "python",
   "nbconvert_exporter": "python",
   "pygments_lexer": "ipython3",
   "version": "3.10.13"
  }
 },
 "nbformat": 4,
 "nbformat_minor": 5
}
