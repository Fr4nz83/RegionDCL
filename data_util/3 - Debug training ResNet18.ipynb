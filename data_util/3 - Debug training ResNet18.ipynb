{
 "cells": [
  {
   "cell_type": "code",
   "execution_count": null,
   "id": "a885d3ab-338a-41dc-a258-e1b31d60dc70",
   "metadata": {},
   "outputs": [],
   "source": [
    "import sys; sys.path.insert(0, '..') # add parent folder\n",
    "\n",
    "from model.resnet import ImageDataset, train_unsupervised"
   ]
  },
  {
   "cell_type": "code",
   "execution_count": null,
   "id": "f350e6ec-c197-4a93-90a5-adb64c52cc18",
   "metadata": {},
   "outputs": [],
   "source": [
    "city = 'Paris'\n",
    "train_unsupervised(city = city, batch_size = 32, num_workers_dataloader = 8)"
   ]
  }
 ],
 "metadata": {
  "kernelspec": {
   "display_name": "Python 3 (ipykernel)",
   "language": "python",
   "name": "python3"
  },
  "language_info": {
   "codemirror_mode": {
    "name": "ipython",
    "version": 3
   },
   "file_extension": ".py",
   "mimetype": "text/x-python",
   "name": "python",
   "nbconvert_exporter": "python",
   "pygments_lexer": "ipython3",
   "version": "3.10.13"
  }
 },
 "nbformat": 4,
 "nbformat_minor": 5
}
