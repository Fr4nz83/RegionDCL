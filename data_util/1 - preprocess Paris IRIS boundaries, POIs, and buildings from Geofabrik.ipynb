{
 "cells": [
  {
   "cell_type": "code",
   "execution_count": null,
   "id": "fa6bc23b-a8f3-45f9-9085-3a88ac30dc5e",
   "metadata": {},
   "outputs": [],
   "source": [
    "import geopandas as gpd\n",
    "import pandas as pd\n",
    "import numpy as np"
   ]
  },
  {
   "cell_type": "markdown",
   "id": "b75db88a-adc5-414d-90b6-92151624a8b2",
   "metadata": {},
   "source": [
    "### Processing Paris POIs and buildings downloaded from Geofabrik.\n",
    "\n",
    "NOTE: assume that the shapefiles from Geofabrik have been downloaded in a given folder.\n",
    "NOTE 2: RegionDCL authors appear to have downloaded POIs that are points, and ignored those represented by (multi-)polygons."
   ]
  },
  {
   "cell_type": "code",
   "execution_count": null,
   "id": "5dfc3b6d-d9f4-4c39-8f2d-0639e6cece70",
   "metadata": {},
   "outputs": [],
   "source": [
    "crs_france = 2154\n",
    "path_shp_paris = './ile-de-france-latest-free/'"
   ]
  },
  {
   "cell_type": "code",
   "execution_count": null,
   "id": "d21342f1-186f-4b07-b8d8-9173965f29e8",
   "metadata": {},
   "outputs": [],
   "source": [
    "boundaries_paris = gpd.read_parquet(\"IRIS Paris.parquet\").to_crs(epsg=crs_france)\n",
    "display(boundaries_paris)\n",
    "boundaries_paris.to_pickle(\"boundaries.pkl\")"
   ]
  },
  {
   "cell_type": "code",
   "execution_count": null,
   "id": "71aeb198-26bb-4ba3-963d-a70833886dd9",
   "metadata": {},
   "outputs": [],
   "source": [
    "pois_paris = gpd.read_file(path_shp_paris + \"gis_osm_pois_free_1.shp\").to_crs(epsg=crs_france)\n",
    "display(pois_paris)\n",
    "pois_paris.to_pickle(\"poi.pkl\")"
   ]
  },
  {
   "cell_type": "code",
   "execution_count": null,
   "id": "ee7c28f5-ff30-46b2-8967-4cac486708a3",
   "metadata": {},
   "outputs": [],
   "source": [
    "buildings_paris = gpd.read_file(path_shp_paris + \"gis_osm_buildings_a_free_1.shp\").to_crs(epsg=crs_france)\n",
    "display(buildings_paris)\n",
    "buildings_paris.to_pickle('building.pkl')"
   ]
  }
 ],
 "metadata": {
  "kernelspec": {
   "display_name": "Python 3 (ipykernel)",
   "language": "python",
   "name": "python3"
  },
  "language_info": {
   "codemirror_mode": {
    "name": "ipython",
    "version": 3
   },
   "file_extension": ".py",
   "mimetype": "text/x-python",
   "name": "python",
   "nbconvert_exporter": "python",
   "pygments_lexer": "ipython3",
   "version": "3.10.13"
  }
 },
 "nbformat": 4,
 "nbformat_minor": 5
}
