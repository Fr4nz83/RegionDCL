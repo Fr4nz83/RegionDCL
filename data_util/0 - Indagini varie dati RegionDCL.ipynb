{
 "cells": [
  {
   "cell_type": "code",
   "execution_count": null,
   "id": "7ca6027e-0484-4364-a138-98ec6e6c0264",
   "metadata": {},
   "outputs": [],
   "source": [
    "import geopandas as gpd\n",
    "import pandas as pd\n",
    "import numpy as np\n",
    "\n",
    "import folium\n",
    "\n",
    "import osmnx as ox\n",
    "import matplotlib.pyplot as plt"
   ]
  },
  {
   "cell_type": "code",
   "execution_count": null,
   "id": "a47d4ff5-7f00-40c8-b258-b22a7f02696f",
   "metadata": {},
   "outputs": [],
   "source": [
    "city = 'Paris'\n",
    "admin_level = 10\n",
    "\n",
    "# Define the query for administrative boundaries\n",
    "place_query = {'city': city, 'admin_level': str(admin_level)}\n",
    "\n",
    "# Retrieve the graph with boundaries\n",
    "gdf = ox.features_from_place(place_query, tags={'boundary': 'administrative'})\n",
    "\n",
    "# Filter the GeoDataFrame for the specified admin level\n",
    "gdf = gdf[gdf['admin_level'] == str(admin_level)]\n",
    "display(gdf)\n",
    "\n",
    "# Plotting\n",
    "m = folium.Map(location=[gdf.geometry.centroid.y.mean(), gdf.geometry.centroid.x.mean()], zoom_start=12)\n",
    "\n",
    "# Add the GeoDataFrame to the map\n",
    "folium.GeoJson(gdf, name='geojson').add_to(m)\n",
    "\n",
    "# Add layer control to toggle on/off\n",
    "folium.LayerControl().add_to(m)\n",
    "\n",
    "m"
   ]
  },
  {
   "cell_type": "code",
   "execution_count": null,
   "id": "847bf515-7c30-4a16-8c23-66e1afa628ca",
   "metadata": {},
   "outputs": [],
   "source": []
  },
  {
   "cell_type": "code",
   "execution_count": null,
   "id": "aa809c5d-7e6f-478f-9488-306302b96bcb",
   "metadata": {},
   "outputs": [],
   "source": [
    "IRIS_Paris = gpd.read_parquet(\"./IRIS Paris.parquet\")"
   ]
  },
  {
   "cell_type": "code",
   "execution_count": null,
   "id": "93b21d81-4e18-46e4-9f29-7defe89517b1",
   "metadata": {},
   "outputs": [],
   "source": [
    "IRIS_Paris"
   ]
  },
  {
   "cell_type": "code",
   "execution_count": null,
   "id": "77607025-cde9-423d-b37e-1051828a5251",
   "metadata": {},
   "outputs": [],
   "source": [
    "# Plotting\n",
    "m = folium.Map(location=[IRIS_Paris.geometry.centroid.y.mean(), IRIS_Paris.geometry.centroid.x.mean()], zoom_start=12)\n",
    "\n",
    "# Add the GeoDataFrame to the map\n",
    "folium.GeoJson(IRIS_Paris, name='geojson').add_to(m)\n",
    "\n",
    "# Add layer control to toggle on/off\n",
    "folium.LayerControl().add_to(m)\n",
    "\n",
    "m"
   ]
  },
  {
   "cell_type": "code",
   "execution_count": null,
   "id": "568371d1-93aa-441e-9fb5-95699cca4f0f",
   "metadata": {},
   "outputs": [],
   "source": []
  },
  {
   "cell_type": "code",
   "execution_count": null,
   "id": "7ab796e6-9b96-473f-9184-60f43d7c4bf1",
   "metadata": {},
   "outputs": [],
   "source": []
  },
  {
   "cell_type": "code",
   "execution_count": null,
   "id": "ee1ab364-0967-4789-afc9-f149ccddd9fb",
   "metadata": {},
   "outputs": [],
   "source": [
    "singapore_seg = gpd.read_file(\"./originali/projected/Singapore/region/subzone.shp\").to_crs(epsg=4326)\n",
    "display(singapore_seg)"
   ]
  },
  {
   "cell_type": "code",
   "execution_count": null,
   "id": "b4c05e8f-3451-4a22-aac5-b99a8291a5e1",
   "metadata": {},
   "outputs": [],
   "source": [
    "# Plotting\n",
    "m = folium.Map(location=[singapore_seg.geometry.centroid.y.mean(), singapore_seg.geometry.centroid.x.mean()], zoom_start=12)\n",
    "\n",
    "# Add the GeoDataFrame to the map\n",
    "folium.GeoJson(singapore_seg, name='geojson').add_to(m)\n",
    "\n",
    "# Add layer control to toggle on/off\n",
    "folium.LayerControl().add_to(m)\n",
    "\n",
    "m"
   ]
  }
 ],
 "metadata": {
  "kernelspec": {
   "display_name": "Python 3 (ipykernel)",
   "language": "python",
   "name": "python3"
  },
  "language_info": {
   "codemirror_mode": {
    "name": "ipython",
    "version": 3
   },
   "file_extension": ".py",
   "mimetype": "text/x-python",
   "name": "python",
   "nbconvert_exporter": "python",
   "pygments_lexer": "ipython3",
   "version": "3.12.9"
  }
 },
 "nbformat": 4,
 "nbformat_minor": 5
}
