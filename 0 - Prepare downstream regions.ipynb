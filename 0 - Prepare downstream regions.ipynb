{
 "cells": [
  {
   "cell_type": "markdown",
   "id": "4d3491de-3abe-480a-8525-1c39784ced7e",
   "metadata": {},
   "source": [
    "#### Prepare downstream regions for RegionDCL\n",
    "\n",
    "Given a city, RegionDCL expects a list containing the shapes of regions to be used to train pattern and region embeddings. \n",
    "\n",
    "Each element (region) in the list should be a dictionary containing a single key-value pair, i.e., the shape of the region (shapely geometry)."
   ]
  },
  {
   "cell_type": "markdown",
   "id": "a42c3336-01b4-462f-b71d-0775a24f37da",
   "metadata": {},
   "source": [
    "#### Example from Singapore"
   ]
  },
  {
   "cell_type": "code",
   "execution_count": null,
   "id": "e53b2fdb-0225-45c9-8814-e4f32f096bf6",
   "metadata": {},
   "outputs": [],
   "source": [
    "import pandas as pd\n",
    "regions = pd.read_pickle('./data/processed/Singapore/downstream_region.pkl')\n",
    "print(regions[0].keys())\n",
    "print(regions[0])\n",
    "print(type(regions[0]['shape']))"
   ]
  },
  {
   "cell_type": "markdown",
   "id": "9532cbf1-654a-449f-a741-8e3cb9ed4827",
   "metadata": {},
   "source": [
    "#### Preparing Paris' IRIS cells as RegionDCL downstream regions for the training phase. "
   ]
  },
  {
   "cell_type": "code",
   "execution_count": null,
   "id": "44706883-9fa8-40de-b940-5addb7f3347a",
   "metadata": {},
   "outputs": [],
   "source": []
  }
 ],
 "metadata": {
  "kernelspec": {
   "display_name": "Python 3 (ipykernel)",
   "language": "python",
   "name": "python3"
  },
  "language_info": {
   "codemirror_mode": {
    "name": "ipython",
    "version": 3
   },
   "file_extension": ".py",
   "mimetype": "text/x-python",
   "name": "python",
   "nbconvert_exporter": "python",
   "pygments_lexer": "ipython3",
   "version": "3.10.13"
  }
 },
 "nbformat": 4,
 "nbformat_minor": 5
}
