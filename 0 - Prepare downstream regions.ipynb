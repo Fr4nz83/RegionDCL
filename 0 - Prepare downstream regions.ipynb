{
 "cells": [
  {
   "cell_type": "markdown",
   "id": "4d3491de-3abe-480a-8525-1c39784ced7e",
   "metadata": {},
   "source": [
    "#### Prepare downstream regions for RegionDCL\n",
    "\n",
    "Given a city, RegionDCL expects a list containing regions. \n",
    "\n",
    "Each element (region) in the list is a dictionary comprising 4 key-value pairs: \n",
    "\n",
    "- name of the region (string)\n",
    "- shape of the region (shapely geometry)\n",
    "- population (float)\n",
    "- land use (vector containing a set of probabilities, one per each possible land use)."
   ]
  },
  {
   "cell_type": "markdown",
   "id": "a42c3336-01b4-462f-b71d-0775a24f37da",
   "metadata": {},
   "source": [
    "#### Example from Singapore"
   ]
  },
  {
   "cell_type": "code",
   "execution_count": 4,
   "id": "e53b2fdb-0225-45c9-8814-e4f32f096bf6",
   "metadata": {},
   "outputs": [
    {
     "name": "stdout",
     "output_type": "stream",
     "text": [
      "dict_keys(['name', 'shape', 'population', 'land_use'])\n",
      "{'name': 'MARINA EAST', 'shape': <POLYGON Z ((3.32e+04 2.96e+04 0, 3.32e+04 2.96e+04 0, 3.32e+04 2.96e+04 0, ...>, 'population': '2047.2331186663741', 'land_use': [0.0, 0.0, 0.0, 0.2709516852681506, 0.7290483147318495]}\n",
      "<class 'shapely.geometry.polygon.Polygon'>\n"
     ]
    }
   ],
   "source": [
    "import pandas as pd\n",
    "regions = pd.read_pickle('./data/processed/Singapore/downstream_region.pkl')\n",
    "print(regions[0].keys())\n",
    "print(regions[0])\n",
    "print(type(regions[0]['shape']))"
   ]
  },
  {
   "cell_type": "markdown",
   "id": "9532cbf1-654a-449f-a741-8e3cb9ed4827",
   "metadata": {},
   "source": [
    "#### Preparing IRIS cells as downstream regions "
   ]
  },
  {
   "cell_type": "code",
   "execution_count": null,
   "id": "44706883-9fa8-40de-b940-5addb7f3347a",
   "metadata": {},
   "outputs": [],
   "source": []
  }
 ],
 "metadata": {
  "kernelspec": {
   "display_name": "Python 3 (ipykernel)",
   "language": "python",
   "name": "python3"
  },
  "language_info": {
   "codemirror_mode": {
    "name": "ipython",
    "version": 3
   },
   "file_extension": ".py",
   "mimetype": "text/x-python",
   "name": "python",
   "nbconvert_exporter": "python",
   "pygments_lexer": "ipython3",
   "version": "3.10.13"
  }
 },
 "nbformat": 4,
 "nbformat_minor": 5
}
